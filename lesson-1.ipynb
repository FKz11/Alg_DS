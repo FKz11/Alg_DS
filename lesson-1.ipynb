{
 "cells": [
  {
   "cell_type": "markdown",
   "metadata": {},
   "source": [
    "# Lesson-1"
   ]
  },
  {
   "cell_type": "markdown",
   "metadata": {},
   "source": [
    "### Вспомогательные функции:"
   ]
  },
  {
   "cell_type": "markdown",
   "metadata": {},
   "source": [
    "Библиотеки:"
   ]
  },
  {
   "cell_type": "code",
   "execution_count": 1,
   "metadata": {},
   "outputs": [],
   "source": [
    "import numpy as np"
   ]
  },
  {
   "cell_type": "markdown",
   "metadata": {},
   "source": [
    "Реализация матриц и операций над ними:"
   ]
  },
  {
   "cell_type": "code",
   "execution_count": 2,
   "metadata": {},
   "outputs": [],
   "source": [
    "class Matrix:\n",
    "    \n",
    "    class_round = 10 #Порядок округления\n",
    "\n",
    "    def __init__(self, array):\n",
    "        self.array = array\n",
    "        self.n_lines = len(array)\n",
    "        self.m_columns = len(array[0])\n",
    "\n",
    "    @classmethod\n",
    "    def copy_array(cls, array):\n",
    "        n_lines = len(array)\n",
    "        m_columns = len(array[0])\n",
    "        new_array = [[0 for _ in range(m_columns)] for _ in range(n_lines)]\n",
    "        for i in range(n_lines):\n",
    "            for j in range(m_columns):\n",
    "                new_array[i][j] = array[i][j]\n",
    "        return new_array\n",
    "\n",
    "    @classmethod\n",
    "    def one_array(cls, number):\n",
    "        return [[1 if i == j else 0 for j in range(number)] for i in range(number)]\n",
    "\n",
    "    @classmethod\n",
    "    def transpose(cls, matrix): #Транспонирование\n",
    "        new_array = [[matrix.array[i][j] for i in range(matrix.n_lines)] for j in range(matrix.m_columns)]\n",
    "        new_matrix = cls(new_array)\n",
    "        return new_matrix\n",
    "\n",
    "    @classmethod\n",
    "    def sum(cls, matrix1, matrix2): #Сложение\n",
    "        if (matrix1.n_lines != matrix2.n_lines) or (matrix1.m_columns != matrix2.m_columns):\n",
    "            print(\"ERROR: (matrix1.n_lines != matrix2.n_lines) or (matrix1.m_columns != matrix2.m_columns)\")\n",
    "            return None\n",
    "        new_array = [[matrix1.array[i][j] + matrix2.array[i][j] for j in range(matrix1.m_columns)] for i in\n",
    "                     range(matrix1.n_lines)]\n",
    "        new_matrix = cls(new_array)\n",
    "        return new_matrix\n",
    "    \n",
    "    @classmethod\n",
    "    def sub(cls, matrix1, matrix2): #Вычитание\n",
    "        if (matrix1.n_lines != matrix2.n_lines) or (matrix1.m_columns != matrix2.m_columns):\n",
    "            print(\"ERROR: (matrix1.n_lines != matrix2.n_lines) or (matrix1.m_columns != matrix2.m_columns)\")\n",
    "            return None\n",
    "        new_array = [[matrix1.array[i][j] - matrix2.array[i][j] for j in range(matrix1.m_columns)] for i in\n",
    "                     range(matrix1.n_lines)]\n",
    "        new_matrix = cls(new_array)\n",
    "        return new_matrix\n",
    "    \n",
    "    @classmethod\n",
    "    def dot_scalar(cls, matrix, scalar): #Умножение на скаляр\n",
    "        new_array = [[(matrix.array[i][j] * scalar) for j in range(matrix.m_columns)] for i in range(matrix.n_lines)]\n",
    "        new_matrix = cls(new_array)\n",
    "        return new_matrix\n",
    "\n",
    "    @classmethod\n",
    "    def dot(cls, matrix1, matrix2): #Умножение\n",
    "        if matrix1.m_columns != matrix2.n_lines:\n",
    "            print(\"ERROR: matrix1.m_columns != matrix2.n_lines\")\n",
    "            return None\n",
    "        new_array = [[0 for _ in range(matrix2.m_columns)] for _ in range(matrix1.n_lines)]\n",
    "        for i in range(matrix1.n_lines):\n",
    "            for j in range(matrix2.m_columns):\n",
    "                new_array[i][j] = sum([matrix1.array[i][k] * matrix2.array[k][j] for k in range(matrix1.m_columns)])\n",
    "        new_matrix = cls(new_array)\n",
    "        return new_matrix\n",
    "    \n",
    "    @classmethod\n",
    "    def deg_matrix(cls, matrix, n): #Возведение в степень матрицы\n",
    "        if matrix.m_columns != matrix.n_lines:\n",
    "            print(\"ERROR: matrix.m_columns != matrix.n_lines\")\n",
    "            return None\n",
    "        new_matrix = cls(matrix.array)\n",
    "        for _ in range(n):\n",
    "            new_matrix = cls.dot(new_matrix, matrix)\n",
    "        return new_matrix\n",
    "    \n",
    "    @classmethod\n",
    "    def deg_array(cls, matrix, n): #Возведение в степень чисел в матрице\n",
    "        matrix.array = [[matrix.array[i][j]**n  for j in range(matrix.m_columns)] for i in range(matrix.n_lines)]\n",
    "        return matrix\n",
    "    \n",
    "    @classmethod\n",
    "    def mean(cls, matrix): #Среднее чисел в матрице\n",
    "        return sum([sum(k) for k in matrix.array]) / (matrix.n_lines * matrix.m_columns)\n",
    "\n",
    "    @classmethod\n",
    "    def det(cls, origin_array): #Определитель\n",
    "        if len(origin_array) != len(origin_array[0]):\n",
    "            print(\"ERROR: matrix.n_lines != matrix.m_columns\")\n",
    "            return None\n",
    "        array: list = cls.copy_array(origin_array)\n",
    "        length = len(array)\n",
    "        sign = 0\n",
    "        for j in range(length - 1):\n",
    "            if array[j][j] == 0:\n",
    "                for i in range(j + 1, length):\n",
    "                    if array[i][j] != 0:\n",
    "                        array[i], array[j] = array[j], array[i]\n",
    "                        sign += 1\n",
    "                        break\n",
    "            for i in range(j + 1, length):\n",
    "                if array[i][j] != 0:\n",
    "                    array[i] = [x - y for x, y in zip(array[i], [k * (array[i][j] / array[j][j]) for k in array[j]])]\n",
    "        det = (-1) ** sign\n",
    "        for i in range(length):\n",
    "            det *= array[i][i]\n",
    "        return det\n",
    "\n",
    "    @classmethod\n",
    "    def inv(cls, matrix): #Обратная матрица\n",
    "        if matrix.n_lines != matrix.m_columns:\n",
    "            print(\"ERROR: matrix.n_lines != matrix.m_columns\")\n",
    "            return None\n",
    "        if cls.det(matrix.array) == 0:\n",
    "            print(\"ERROR: det == 0\")\n",
    "            return None\n",
    "        one_array = cls.one_array(matrix.n_lines)\n",
    "        new_array = cls.copy_array(matrix.array)\n",
    "        for i in range(matrix.n_lines):\n",
    "            new_array[i] += one_array[i]\n",
    "        for i in range(matrix.n_lines):\n",
    "            if new_array[i][i] == 0:\n",
    "                for k in range(i + 1, matrix.n_lines):\n",
    "                    if new_array[k][i] != 0:\n",
    "                        new_array[i], new_array[k] = new_array[k], new_array[i]\n",
    "                        break\n",
    "            for j in range(2 * matrix.m_columns - 1, i - 1, -1):\n",
    "                new_array[i][j] /= new_array[i][i]\n",
    "            for k in range(matrix.n_lines):\n",
    "                if k != i:\n",
    "                    new_array[k] = [new_array[k][j] - new_array[i][j] * new_array[k][i] for j in\n",
    "                                    range(2 * matrix.m_columns)]\n",
    "        new_matrix = cls([new_array[i][matrix.m_columns:] for i in range(matrix.n_lines)])\n",
    "        return new_matrix\n",
    "\n",
    "    def __str__(self): #Отображение\n",
    "        data = \"\"\n",
    "        for line in self.array:\n",
    "            for k in line:\n",
    "                data += str(round(k, self.class_round)) + \" \"\n",
    "            data += \"\\n\"\n",
    "        return data[:-1]"
   ]
  },
  {
   "cell_type": "markdown",
   "metadata": {},
   "source": [
    "### Даны целевая переменная y = [45, 55, 50, 59, 65, 35, 75, 80, 50, 60] и параметр X = [1, 1, 2, 1, 3, 0, 5, 10, 1, 2]. Найти коэффициенты линейной регресси и intercept."
   ]
  },
  {
   "cell_type": "code",
   "execution_count": 3,
   "metadata": {},
   "outputs": [],
   "source": [
    "y1 = [45, 55, 50, 59, 65, 35, 75, 80, 50, 60]\n",
    "X1 = [1, 1, 2, 1, 3, 0, 5, 10, 1, 2]"
   ]
  },
  {
   "cell_type": "markdown",
   "metadata": {},
   "source": [
    "Выведем аналитическое решение:"
   ]
  },
  {
   "cell_type": "markdown",
   "metadata": {},
   "source": [
    "Уравнение линейной регрессии\n",
    "\n",
    "$$y1^{T} = w0 + X1^{T}w1$$\n",
    "\n",
    "Запишем в виде\n",
    "\n",
    "$$y = Xw$$   \n",
    "\n",
    "где $y$ - $y1^{T}$, $X$ - $X1^{T}$ c единичным столбцом, $w$ - $w1$ c $w0$\n",
    "\n",
    "Домножим обе части уравнения на $X^{T}$, чтобы параметр перед w оказался квадратичной матрицей $(X^{T}X)$ у которой будет обратная матрица, так как будет определитель, но только если параметры не скоррелированы\n",
    "\n",
    "$$X^{T}y = (X^{T}X)w$$\n",
    "\n",
    "Домножим обе части уравнения на $(X^{T}X)^{-1}$ чтобы выделить $w$\n",
    "\n",
    "$$(X^{T}X)^{-1}X^{T}y = w$$\n",
    "\n",
    "Перепишем\n",
    "\n",
    "$$w = (X^{T}X)^{-1}X^{T}y$$\n",
    "\n",
    "Это аналитическое решение линейной регресси"
   ]
  },
  {
   "cell_type": "markdown",
   "metadata": {},
   "source": [
    "Решение через собственный класс:"
   ]
  },
  {
   "cell_type": "code",
   "execution_count": 4,
   "metadata": {},
   "outputs": [],
   "source": [
    "def lin_reg_matrix_own(array_X, array_y): #Коэфициенты линейной регресси через матрицы\n",
    "        X = Matrix([[1, n] for n in array_X])\n",
    "        y = Matrix.transpose(Matrix([array_y]))\n",
    "        return Matrix.dot(Matrix.dot(Matrix.inv(Matrix.dot(Matrix.transpose(X), X)), Matrix.transpose(X)), y)"
   ]
  },
  {
   "cell_type": "code",
   "execution_count": 5,
   "metadata": {},
   "outputs": [
    {
     "name": "stdout",
     "output_type": "stream",
     "text": [
      "47.2321428571 \n",
      "3.9107142857 \n"
     ]
    }
   ],
   "source": [
    "w = lin_reg_matrix_own(X1, y1)\n",
    "print(w)"
   ]
  },
  {
   "cell_type": "markdown",
   "metadata": {},
   "source": [
    "Решение через numpy:"
   ]
  },
  {
   "cell_type": "code",
   "execution_count": 6,
   "metadata": {},
   "outputs": [],
   "source": [
    "def lin_reg_matrix_np(array_X, array_y): #Коэфициенты линейной регресси через матрицы\n",
    "        X = np.array([[1, n] for n in array_X])\n",
    "        y = np.array(array_y).T\n",
    "        return np.linalg.inv(X.T @ X) @ X.T @ y"
   ]
  },
  {
   "cell_type": "code",
   "execution_count": 7,
   "metadata": {},
   "outputs": [
    {
     "name": "stdout",
     "output_type": "stream",
     "text": [
      "[47.23214286  3.91071429]\n"
     ]
    }
   ],
   "source": [
    "w = lin_reg_matrix_np(X1, y1)\n",
    "print(w)"
   ]
  },
  {
   "cell_type": "markdown",
   "metadata": {},
   "source": [
    "Найдём среднюю квадратическую ошибку:"
   ]
  },
  {
   "cell_type": "code",
   "execution_count": 8,
   "metadata": {},
   "outputs": [
    {
     "data": {
      "text/plain": [
       "45.93749999999999"
      ]
     },
     "execution_count": 8,
     "metadata": {},
     "output_type": "execute_result"
    }
   ],
   "source": [
    "mse = np.mean((np.array(y1).T - np.array([[1, n] for n in X1]) @ w)**2)\n",
    "mse"
   ]
  },
  {
   "cell_type": "markdown",
   "metadata": {},
   "source": [
    "Найдём решение через градиентный спуск:"
   ]
  },
  {
   "cell_type": "markdown",
   "metadata": {},
   "source": [
    "Решение через собственный класс:"
   ]
  },
  {
   "cell_type": "code",
   "execution_count": 9,
   "metadata": {},
   "outputs": [],
   "source": [
    "def lin_reg_mse_own(y, y_pred): #Средняя квадратическая ошибка линейной регресси\n",
    "    loss = Matrix.mean(Matrix.deg_array(Matrix.sub(y, y_pred), 2))\n",
    "    return loss"
   ]
  },
  {
   "cell_type": "code",
   "execution_count": 10,
   "metadata": {},
   "outputs": [],
   "source": [
    "def lin_reg_grad_own(array_X, array_y, n = 1000, a = 1): #Коэфициенты линейной регресси через градиентный спуск\n",
    "    X = Matrix([[1, n] for n in array_X])\n",
    "    y = Matrix.transpose(Matrix([array_y]))\n",
    "    w = Matrix([[1] for _ in range(X.m_columns)])\n",
    "    for i in range(n + 1):\n",
    "        y_pred = Matrix.dot(X, w)\n",
    "        loss = lin_reg_mse_own(y, y_pred)\n",
    "        w = Matrix.sub(w, Matrix.dot_scalar(Matrix.dot(Matrix.transpose(X), Matrix.sub(y_pred, y)), a * 2/n))\n",
    "        if i % 40 == 0:\n",
    "            print(i, f'[{Matrix.transpose(w)}]', loss)\n",
    "    return w"
   ]
  },
  {
   "cell_type": "code",
   "execution_count": 11,
   "metadata": {},
   "outputs": [
    {
     "name": "stdout",
     "output_type": "stream",
     "text": [
      "0 [7.725 21.3375 ] 3006.8\n",
      "40 [44.4349310903 4.5037430067 ] 50.905162636192735\n",
      "80 [47.0410139005 3.9465853722 ] 45.959994640447704\n",
      "120 [47.2191335413 3.9131209173 ] 45.93760408780609\n",
      "160 [47.2312577472 3.910877761 ] 45.937500481767714\n",
      "47.2312577472 \n",
      "3.910877761 \n"
     ]
    }
   ],
   "source": [
    "w = lin_reg_grad_own(X1, y1, 160, 1)\n",
    "print(w)"
   ]
  },
  {
   "cell_type": "markdown",
   "metadata": {},
   "source": [
    "Решение через numpy:"
   ]
  },
  {
   "cell_type": "code",
   "execution_count": 12,
   "metadata": {},
   "outputs": [],
   "source": [
    "def lin_reg_mse_np(y, y_pred): #Средняя квадратическая ошибка линейной регресси\n",
    "    loss = np.mean((y - y_pred)**2)\n",
    "    return loss"
   ]
  },
  {
   "cell_type": "code",
   "execution_count": 13,
   "metadata": {},
   "outputs": [],
   "source": [
    "def lin_reg_grad_np(array_X, array_y, n = 1000, a = 1): #Коэфициенты линейной регресси через градиентный спуск\n",
    "    X = np.array([[1, n] for n in array_X])\n",
    "    y = np.array(array_y).T\n",
    "    w = np.array([1. for _ in range(X.shape[1])]).T\n",
    "    for i in range(n + 1):\n",
    "        y_pred = X @ w\n",
    "        loss = lin_reg_mse_np(y, y_pred)\n",
    "        w -= a * 2/n * X.T @ (y_pred - y)\n",
    "        if i % 40 == 0:\n",
    "            print(i, w, loss)\n",
    "    return w"
   ]
  },
  {
   "cell_type": "code",
   "execution_count": 14,
   "metadata": {},
   "outputs": [
    {
     "name": "stdout",
     "output_type": "stream",
     "text": [
      "0 [ 7.725  21.3375] 3006.8\n",
      "40 [44.43493109  4.50374301] 50.90516263619272\n",
      "80 [47.0410139   3.94658537] 45.959994640447704\n",
      "120 [47.21913354  3.91312092] 45.9376040878061\n",
      "160 [47.23125775  3.91087776] 45.93750048176768\n",
      "[47.23125775  3.91087776]\n"
     ]
    }
   ],
   "source": [
    "w = lin_reg_grad_np(X1, y1, 160, 1)\n",
    "print(w)"
   ]
  }
 ],
 "metadata": {
  "kernelspec": {
   "display_name": "Python 3",
   "language": "python",
   "name": "python3"
  },
  "language_info": {
   "codemirror_mode": {
    "name": "ipython",
    "version": 3
   },
   "file_extension": ".py",
   "mimetype": "text/x-python",
   "name": "python",
   "nbconvert_exporter": "python",
   "pygments_lexer": "ipython3",
   "version": "3.8.5"
  }
 },
 "nbformat": 4,
 "nbformat_minor": 4
}
