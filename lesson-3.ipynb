{
 "cells": [
  {
   "cell_type": "markdown",
   "metadata": {},
   "source": [
    "# lesson-3"
   ]
  },
  {
   "cell_type": "markdown",
   "metadata": {},
   "source": [
    "### Библиотеки:"
   ]
  },
  {
   "cell_type": "code",
   "execution_count": 1,
   "metadata": {},
   "outputs": [],
   "source": [
    "import numpy as np\n",
    "import matplotlib.pyplot as plt\n",
    "import random\n",
    "\n",
    "plt.rcParams[\"figure.figsize\"] = (10,5)"
   ]
  },
  {
   "cell_type": "markdown",
   "metadata": {},
   "source": [
    "### 1*. Измените функцию calc_logloss так, чтобы нули по возможности не попадали в np.log."
   ]
  },
  {
   "cell_type": "code",
   "execution_count": 2,
   "metadata": {},
   "outputs": [],
   "source": [
    "X = np.array([[1, 1, 1, 1, 1, 1, 1, 1, 1, 1],\n",
    "              [1, 1, 2, 1, 3, 0, 5, 10, 1, 2],\n",
    "              [500, 700, 750, 600, 1450,\n",
    "               800, 1500, 2000, 450, 1000],\n",
    "              [1, 1, 2, 1, 2, 1, 3, 3, 1, 2]], dtype = np.float64)\n",
    "\n",
    "y = np.array([0, 0, 1, 0, 1, 0, 1, 0, 1, 1], dtype = np.float64)"
   ]
  },
  {
   "cell_type": "code",
   "execution_count": 3,
   "metadata": {},
   "outputs": [],
   "source": [
    "def calc_std_feat(x):\n",
    "    res = (x - x.mean()) / x.std()\n",
    "    return res"
   ]
  },
  {
   "cell_type": "code",
   "execution_count": 4,
   "metadata": {},
   "outputs": [
    {
     "data": {
      "text/plain": [
       "array([[ 1.        ,  1.        ,  1.        ,  1.        ,  1.        ,\n",
       "         1.        ,  1.        ,  1.        ,  1.        ,  1.        ],\n",
       "       [ 1.        ,  1.        ,  2.        ,  1.        ,  3.        ,\n",
       "         0.        ,  5.        , 10.        ,  1.        ,  2.        ],\n",
       "       [-0.97958969, -0.56713087, -0.46401617, -0.77336028,  0.97958969,\n",
       "        -0.36090146,  1.08270439,  2.11385144, -1.08270439,  0.05155735],\n",
       "       [ 1.        ,  1.        ,  2.        ,  1.        ,  2.        ,\n",
       "         1.        ,  3.        ,  3.        ,  1.        ,  2.        ]])"
      ]
     },
     "execution_count": 4,
     "metadata": {},
     "output_type": "execute_result"
    }
   ],
   "source": [
    "X_st = X.copy()\n",
    "X_st[2, :] = calc_std_feat(X_st[2, :])\n",
    "X_st"
   ]
  },
  {
   "cell_type": "code",
   "execution_count": 5,
   "metadata": {},
   "outputs": [],
   "source": [
    "def calc_logloss(y, y_pred):\n",
    "    err = - np.mean(y * np.log(y_pred + 1e-28) + (1.0 - y) * np.log(1.0 - y_pred + 1e-28))\n",
    "    return err"
   ]
  },
  {
   "cell_type": "code",
   "execution_count": 6,
   "metadata": {},
   "outputs": [
    {
     "data": {
      "text/plain": [
       "-0.0"
      ]
     },
     "execution_count": 6,
     "metadata": {},
     "output_type": "execute_result"
    }
   ],
   "source": [
    "calc_logloss(np.array([1, 1]), np.array([1, 1]))"
   ]
  },
  {
   "cell_type": "code",
   "execution_count": 7,
   "metadata": {},
   "outputs": [
    {
     "data": {
      "text/plain": [
       "64.47238260383328"
      ]
     },
     "execution_count": 7,
     "metadata": {},
     "output_type": "execute_result"
    }
   ],
   "source": [
    "calc_logloss(np.array([1, 1]), np.array([0, 0]))"
   ]
  },
  {
   "cell_type": "markdown",
   "metadata": {},
   "source": [
    "### 2. Подберите аргументы функции eval_model для логистической регрессии таким образом, чтобы log loss был минимальным."
   ]
  },
  {
   "cell_type": "code",
   "execution_count": 8,
   "metadata": {},
   "outputs": [],
   "source": [
    "def sigmoid(z):\n",
    "    res = 1 / (1 + np.exp(-z))\n",
    "    return res"
   ]
  },
  {
   "cell_type": "code",
   "execution_count": 9,
   "metadata": {},
   "outputs": [],
   "source": [
    "def eval_model(X, y, iterations, alpha=1e-4, metric: callable = None):\n",
    "    np.random.seed(42)\n",
    "    loss_basic = []\n",
    "    abs_W_basic = []\n",
    "    sqr_W_basic = []\n",
    "    W = np.random.randn(X.shape[0])\n",
    "    n = X.shape[1]\n",
    "    for i in range(1, iterations+1):\n",
    "        z = np.dot(W, X)\n",
    "        y_pred = sigmoid(z)\n",
    "        err = calc_logloss(y, y_pred)\n",
    "        W -= alpha * (1/n * np.dot((y_pred - y), X.T))\n",
    "        abs_W = np.sum(np.abs(W))\n",
    "        sqr_W = W.T @ W\n",
    "        loss_basic.append(err)\n",
    "        abs_W_basic.append(abs_W)\n",
    "        sqr_W_basic.append(sqr_W)\n",
    "        if i % (iterations / 10) == 0:\n",
    "            print(i, err, abs_W, sqr_W)\n",
    "    return W, loss_basic, abs_W_basic, sqr_W_basic"
   ]
  },
  {
   "cell_type": "code",
   "execution_count": 10,
   "metadata": {},
   "outputs": [
    {
     "name": "stdout",
     "output_type": "stream",
     "text": [
      "2000 32.23619130191664 2.713716848691144 2.8937978651129224\n",
      "4000 32.23619130191664 2.6217368486911523 2.799561571948553\n",
      "6000 32.23619130191664 2.529756848691161 2.7222534731841765\n",
      "8000 32.23619130191664 2.4377768486911693 2.6618735688197934\n",
      "10000 32.23619130191664 2.3457968486911778 2.618421858855403\n",
      "12000 32.23619130191664 2.2538168486911774 2.5918983432910037\n",
      "14000 2.866743321721038 2.161856352307028 2.5823033044168215\n",
      "16000 0.6047441750740944 2.160562891366906 2.5822740014990213\n",
      "18000 0.6047416161931483 2.160543452492413 2.582282766810411\n",
      "20000 0.6047390575901483 2.160524015666768 2.5822915338857726\n",
      "[ 0.49595972 -0.1400658  -0.00243045  1.52206805]\n"
     ]
    }
   ],
   "source": [
    "W, loss_basic, abs_W_basic, sqr_W_basic = eval_model(X, y, iterations=20000, alpha=1e-7)\n",
    "print(W)"
   ]
  },
  {
   "cell_type": "markdown",
   "metadata": {},
   "source": [
    "### 3. Создайте функцию calc_pred_proba, возвращающую предсказанную вероятность класса 1 (на вход подаются W, который уже посчитан функцией eval_model и X, на выходе - массив y_pred_proba)."
   ]
  },
  {
   "cell_type": "code",
   "execution_count": 11,
   "metadata": {},
   "outputs": [],
   "source": [
    "def calc_pred_proba(W, X):\n",
    "    y_pred_proba = sigmoid(W @ X)\n",
    "    return y_pred_proba"
   ]
  },
  {
   "cell_type": "code",
   "execution_count": 12,
   "metadata": {},
   "outputs": [
    {
     "data": {
      "text/plain": [
       "array([0.65987503, 0.5440474 , 0.80800941, 0.60340965, 0.40029096,\n",
       "       0.51840878, 0.6717611 , 0.2315833 , 0.68659748, 0.69625237])"
      ]
     },
     "execution_count": 12,
     "metadata": {},
     "output_type": "execute_result"
    }
   ],
   "source": [
    "y_pred_proba = np.array(calc_pred_proba(W, X))\n",
    "y_pred_proba"
   ]
  },
  {
   "cell_type": "markdown",
   "metadata": {},
   "source": [
    "### 4. Создайте функцию calc_pred, возвращающую предсказанный класс (на вход подаются W, который уже посчитан функцией eval_model и X, на выходе - массив y_pred)."
   ]
  },
  {
   "cell_type": "code",
   "execution_count": 13,
   "metadata": {},
   "outputs": [],
   "source": [
    "def calc_pred(W, X):\n",
    "    y_pred_proba = calc_pred_proba(W, X)\n",
    "    y_pred = [1 if k > 0.5 else 0 for k in y_pred_proba]\n",
    "    return y_pred"
   ]
  },
  {
   "cell_type": "code",
   "execution_count": 14,
   "metadata": {},
   "outputs": [
    {
     "data": {
      "text/plain": [
       "array([1, 1, 1, 1, 0, 1, 1, 0, 1, 1])"
      ]
     },
     "execution_count": 14,
     "metadata": {},
     "output_type": "execute_result"
    }
   ],
   "source": [
    "y_pred = np.array(calc_pred(W, X))\n",
    "y_pred"
   ]
  },
  {
   "cell_type": "code",
   "execution_count": 15,
   "metadata": {},
   "outputs": [
    {
     "data": {
      "text/plain": [
       "array([0., 0., 1., 0., 1., 0., 1., 0., 1., 1.])"
      ]
     },
     "execution_count": 15,
     "metadata": {},
     "output_type": "execute_result"
    }
   ],
   "source": [
    "y"
   ]
  },
  {
   "cell_type": "markdown",
   "metadata": {},
   "source": [
    "### 5. Посчитайте Accuracy, матрицу ошибок, точность и полноту, а также F1 score."
   ]
  },
  {
   "cell_type": "code",
   "execution_count": 16,
   "metadata": {},
   "outputs": [],
   "source": [
    "def accuracy(y, y_pred):\n",
    "    return (y == y_pred).sum() / len(y)"
   ]
  },
  {
   "cell_type": "code",
   "execution_count": 17,
   "metadata": {},
   "outputs": [
    {
     "data": {
      "text/plain": [
       "0.5"
      ]
     },
     "execution_count": 17,
     "metadata": {},
     "output_type": "execute_result"
    }
   ],
   "source": [
    "accuracy_y_pred = accuracy(y, y_pred)\n",
    "accuracy_y_pred"
   ]
  },
  {
   "cell_type": "code",
   "execution_count": 18,
   "metadata": {},
   "outputs": [],
   "source": [
    "def matrix_false(y, y_pred):\n",
    "    TP = ((y == 1) * (y_pred == 1)).sum()\n",
    "    FP = ((y == 0) * (y_pred == 1)).sum()\n",
    "    FN = ((y == 1) * (y_pred == 0)).sum()\n",
    "    TN = ((y == 0) * (y_pred == 0)).sum()\n",
    "    return {'TP': TP, 'FP': FP, 'FN': FN, 'TN': TN}"
   ]
  },
  {
   "cell_type": "code",
   "execution_count": 19,
   "metadata": {},
   "outputs": [
    {
     "data": {
      "text/plain": [
       "{'TP': 4, 'FP': 4, 'FN': 1, 'TN': 1}"
      ]
     },
     "execution_count": 19,
     "metadata": {},
     "output_type": "execute_result"
    }
   ],
   "source": [
    "matrix_false_y_pred = matrix_false(y, y_pred)\n",
    "matrix_false_y_pred"
   ]
  },
  {
   "cell_type": "code",
   "execution_count": 20,
   "metadata": {},
   "outputs": [],
   "source": [
    "def precision(y, y_pred):\n",
    "    return ((y == 1) * (y_pred == 1)).sum() / (y_pred == 1).sum()"
   ]
  },
  {
   "cell_type": "code",
   "execution_count": 21,
   "metadata": {},
   "outputs": [
    {
     "data": {
      "text/plain": [
       "0.5"
      ]
     },
     "execution_count": 21,
     "metadata": {},
     "output_type": "execute_result"
    }
   ],
   "source": [
    "precision_y_pred = precision(y, y_pred)\n",
    "precision_y_pred"
   ]
  },
  {
   "cell_type": "code",
   "execution_count": 22,
   "metadata": {},
   "outputs": [],
   "source": [
    "def recall(y, y_pred):\n",
    "    return ((y == 1) * (y_pred == 1)).sum() / (y == 1).sum()"
   ]
  },
  {
   "cell_type": "code",
   "execution_count": 23,
   "metadata": {},
   "outputs": [
    {
     "data": {
      "text/plain": [
       "0.8"
      ]
     },
     "execution_count": 23,
     "metadata": {},
     "output_type": "execute_result"
    }
   ],
   "source": [
    "recall_y_pred = recall(y, y_pred)\n",
    "recall_y_pred"
   ]
  },
  {
   "cell_type": "code",
   "execution_count": 24,
   "metadata": {},
   "outputs": [],
   "source": [
    "def f1_score(y, y_pred):\n",
    "    return 2 * precision(y, y_pred) * recall(y, y_pred) / (precision(y, y_pred) + recall(y, y_pred))"
   ]
  },
  {
   "cell_type": "code",
   "execution_count": 25,
   "metadata": {},
   "outputs": [
    {
     "data": {
      "text/plain": [
       "0.6153846153846154"
      ]
     },
     "execution_count": 25,
     "metadata": {},
     "output_type": "execute_result"
    }
   ],
   "source": [
    "f1_score_y_pred = f1_score(y, y_pred)\n",
    "f1_score_y_pred"
   ]
  },
  {
   "cell_type": "markdown",
   "metadata": {},
   "source": [
    "### 6. Могла ли модель переобучиться? Почему?"
   ]
  },
  {
   "cell_type": "markdown",
   "metadata": {},
   "source": [
    " Не могла. Результаты предсказаний на тренировочной выборки маленькие. Коэффициенты логистической регрессии не велики."
   ]
  },
  {
   "cell_type": "markdown",
   "metadata": {},
   "source": [
    "### 7*. Создайте функции eval_model_l1 и eval_model_l2 с применением L1 и L2 регуляризаций соответственно."
   ]
  },
  {
   "cell_type": "code",
   "execution_count": 26,
   "metadata": {},
   "outputs": [],
   "source": [
    "def eval_model_l1(X, y, iterations, alpha=1e-4, l = 0.1, metric: callable = None):\n",
    "    np.random.seed(42)\n",
    "    loss_L1 = []\n",
    "    abs_W_L1 = []\n",
    "    sqr_W_L1 = []\n",
    "    W = np.random.randn(X.shape[0])\n",
    "    n = X.shape[1]\n",
    "    for i in range(1, iterations+1):\n",
    "        z = np.dot(W, X)\n",
    "        y_pred = sigmoid(z)\n",
    "        err = calc_logloss(y, y_pred)\n",
    "        W -= alpha * (1/n * np.dot((y_pred - y), X.T) + l * np.sign(W))\n",
    "        abs_W = np.sum(np.abs(W))\n",
    "        sqr_W = W.T @ W\n",
    "        loss_L1.append(err)\n",
    "        abs_W_L1.append(abs_W)\n",
    "        sqr_W_L1.append(sqr_W)\n",
    "        if i % (iterations / 10) == 0:\n",
    "            print(i, err, abs_W)\n",
    "    return W, loss_L1, abs_W_L1, sqr_W_L1"
   ]
  },
  {
   "cell_type": "code",
   "execution_count": 27,
   "metadata": {},
   "outputs": [
    {
     "name": "stdout",
     "output_type": "stream",
     "text": [
      "2000 32.23619130191664 1.975268246348757\n",
      "4000 29.104281204655422 1.2829682463487555\n",
      "6000 0.8424339378087973 0.9227111428337728\n",
      "8000 0.7575792821827432 0.7226398264061141\n",
      "10000 0.7148621153943565 0.5226396797495336\n",
      "12000 0.6912535406466396 0.32272296914636445\n",
      "14000 0.6809037505942748 0.12271031106175512\n",
      "16000 0.6934741246960388 0.00032556647810176776\n",
      "18000 0.6919182967100345 0.00025187779547534316\n",
      "20000 0.6948529784972736 0.0002500101665865023\n",
      "[ 8.65515735e-05  5.42445885e-05  5.50144918e-05 -5.41995128e-05]\n"
     ]
    }
   ],
   "source": [
    "W, loss_L1, abs_W_L1, sqr_W_L1 = eval_model_l1(X, y, 20000, 1e-7, 1000)\n",
    "print(W)"
   ]
  },
  {
   "cell_type": "code",
   "execution_count": 28,
   "metadata": {},
   "outputs": [],
   "source": [
    "def eval_model_l2(X, y, iterations, alpha=1e-4, l = 0.1, metric: callable = None):\n",
    "    np.random.seed(42)\n",
    "    loss_L2 = []\n",
    "    sqr_W_L2 = []\n",
    "    abs_W_L2 = []\n",
    "    W = np.random.randn(X.shape[0])\n",
    "    n = X.shape[1]\n",
    "    for i in range(1, iterations+1):\n",
    "        z = np.dot(W, X)\n",
    "        y_pred = sigmoid(z)\n",
    "        err = calc_logloss(y, y_pred)\n",
    "        W -= alpha * (1/n * np.dot((y_pred - y), X.T) + l * 2 * W)\n",
    "        abs_W = np.sum(np.abs(W))\n",
    "        sqr_W = W.T @ W\n",
    "        loss_L2.append(err)\n",
    "        abs_W_L2.append(abs_W)\n",
    "        sqr_W_L2.append(sqr_W)\n",
    "        if i % (iterations / 10) == 0:\n",
    "            print(i, err, abs_W, sqr_W)\n",
    "    return W, loss_L2, abs_W_L2, sqr_W_L2"
   ]
  },
  {
   "cell_type": "code",
   "execution_count": 29,
   "metadata": {},
   "outputs": [
    {
     "name": "stdout",
     "output_type": "stream",
     "text": [
      "2000 32.23619130191664 1.8048235319392787 1.289764378869151\n",
      "4000 32.23619130191664 1.1339449234380816 0.5486390666572624\n",
      "6000 15.615529172242342 0.684259533901549 0.23543106607627304\n",
      "8000 0.6628510496732356 0.43608290467703803 0.10523105200089908\n",
      "10000 0.6717418430450705 0.2922929586480152 0.04728557081890719\n",
      "12000 0.6780720456888931 0.19591405476196563 0.021249338944621013\n",
      "14000 0.6824821511578263 0.13131363065965623 0.009550147922308891\n",
      "16000 0.6855133031159981 0.08801355117329485 0.004292855826906688\n",
      "18000 0.6875787920145342 0.05903729108836181 0.0019301426661623127\n",
      "20000 0.6889784172130097 0.039629393095633354 0.0008681453035685806\n",
      "[ 9.06908721e-03 -2.60134074e-03  4.61032083e-05  2.79128619e-02]\n"
     ]
    }
   ],
   "source": [
    "W, loss_L2, abs_W_L2, sqr_W_L2 = eval_model_l2(X, y, 20000, 1e-7, 1000)\n",
    "print(W)"
   ]
  },
  {
   "cell_type": "markdown",
   "metadata": {},
   "source": [
    "Визуализируем сходимость логистической регрессии c L1-регуляризацией, L2-регуляризацией и без регуляризации:"
   ]
  },
  {
   "cell_type": "code",
   "execution_count": 30,
   "metadata": {},
   "outputs": [
    {
     "data": {
      "image/png": "[encoded data removed]",
      "text/plain": [
       "<Figure size 720x360 with 1 Axes>"
      ]
     },
     "metadata": {
      "needs_background": "light"
     },
     "output_type": "display_data"
    }
   ],
   "source": [
    "n1 = 0\n",
    "n2 = 20000\n",
    "n_iteration = [i+1 for i in range(n2 - n1)]\n",
    "plt.plot(n_iteration, loss_basic[n1:n2], label = \"log_reg_basic\")\n",
    "plt.plot(n_iteration, loss_L1[n1:n2], label = \"log_reg_L1\")\n",
    "plt.plot(n_iteration, loss_L2[n1:n2], label = \"log_reg_L2\")\n",
    "plt.title('LOG_LOSS')\n",
    "plt.xlabel('Iteration number')\n",
    "plt.ylabel('LOG_LOSS')\n",
    "plt.legend()\n",
    "plt.show()"
   ]
  },
  {
   "cell_type": "markdown",
   "metadata": {},
   "source": [
    "Визуализируем изменение суммы абсолютных значений параметров логистической регрессии  c L1-регуляризацией, L2-регуляризацией и без регуляризации:"
   ]
  },
  {
   "cell_type": "code",
   "execution_count": 31,
   "metadata": {},
   "outputs": [
    {
     "data": {
      "image/png": "[encoded data removed]",
      "text/plain": [
       "<Figure size 720x360 with 1 Axes>"
      ]
     },
     "metadata": {
      "needs_background": "light"
     },
     "output_type": "display_data"
    }
   ],
   "source": [
    "n1 = 0\n",
    "n2 = 20000\n",
    "n_iteration = [i+1 for i in range(n2 - n1)]\n",
    "plt.plot(n_iteration, abs_W_basic[n1:n2], label = \"log_reg_basic\")\n",
    "plt.plot(n_iteration, abs_W_L1[n1:n2], label = \"log_reg_L1\")\n",
    "plt.plot(n_iteration, abs_W_L2[n1:n2], label = \"log_reg_L2\")\n",
    "plt.title('ABS_W')\n",
    "plt.xlabel('Iteration number')\n",
    "plt.ylabel('ABS_W')\n",
    "plt.legend()\n",
    "plt.show()"
   ]
  },
  {
   "cell_type": "markdown",
   "metadata": {},
   "source": [
    "Визуализируем изменение суммы квадратов параметров логистической регрессии  c L1-регуляризацией, L2-регуляризацией и без регуляризации:"
   ]
  },
  {
   "cell_type": "code",
   "execution_count": 32,
   "metadata": {},
   "outputs": [
    {
     "data": {
      "image/png": "[encoded data removed]",
      "text/plain": [
       "<Figure size 720x360 with 1 Axes>"
      ]
     },
     "metadata": {
      "needs_background": "light"
     },
     "output_type": "display_data"
    }
   ],
   "source": [
    "n1 = 0\n",
    "n2 = 20000\n",
    "n_iteration = [i+1 for i in range(n2 - n1)]\n",
    "plt.plot(n_iteration, sqr_W_basic[n1:n2], label = \"log_reg_basic\")\n",
    "plt.plot(n_iteration, sqr_W_L1[n1:n2], label = \"log_reg_L1\")\n",
    "plt.plot(n_iteration, sqr_W_L2[n1:n2], label = \"log_reg_L2\")\n",
    "plt.title('SQR_W')\n",
    "plt.xlabel('Iteration number')\n",
    "plt.ylabel('SQR_W')\n",
    "plt.legend()\n",
    "plt.show()"
   ]
  }
 ],
 "metadata": {
  "kernelspec": {
   "display_name": "Python 3",
   "language": "python",
   "name": "python3"
  },
  "language_info": {
   "codemirror_mode": {
    "name": "ipython",
    "version": 3
   },
   "file_extension": ".py",
   "mimetype": "text/x-python",
   "name": "python",
   "nbconvert_exporter": "python",
   "pygments_lexer": "ipython3",
   "version": "3.8.5"
  }
 },
 "nbformat": 4,
 "nbformat_minor": 4
}
